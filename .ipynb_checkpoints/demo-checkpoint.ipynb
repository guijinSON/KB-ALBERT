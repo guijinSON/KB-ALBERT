{
 "cells": [
  {
   "cell_type": "code",
   "execution_count": 1,
   "id": "fa43fa6e",
   "metadata": {},
   "outputs": [
    {
     "name": "stderr",
     "output_type": "stream",
     "text": [
      "[Korean Sentence Splitter]: Initializing Kss...\n"
     ]
    }
   ],
   "source": [
    "from utils import load_model\n",
    "from inference import Financial_Understanding, Risk_Tolerance\n",
    "import os \n",
    "\n",
    "os.chdir('./ZIP_KB_ALBERT')"
   ]
  },
  {
   "cell_type": "markdown",
   "id": "262492c7",
   "metadata": {},
   "source": [
    "### Q : 고객님께서 감내하실 수 있는 투자수익 및 위험수준은 어느정도 입니까?"
   ]
  },
  {
   "cell_type": "code",
   "execution_count": 11,
   "id": "02814c3f",
   "metadata": {},
   "outputs": [
    {
     "data": {
      "text/plain": [
       "('강한 위험 회피형', -89.72)"
      ]
     },
     "execution_count": 11,
     "metadata": {},
     "output_type": "execute_result"
    }
   ],
   "source": [
    "Q1A1 = '주식 투자를 통해 안정적인 수익을 창출하고 싶습니다. 위험 가능성이 높은 상품은 최대한 지양하고 있습니다. 큰 위험 없이 꾸준한 추가 소득을 취하는 정도에 만족합니다.'\n",
    "Risk_Tolerance(Q1A1,return_logits=True)"
   ]
  },
  {
   "cell_type": "code",
   "execution_count": 12,
   "id": "2672c711",
   "metadata": {},
   "outputs": [
    {
     "data": {
      "text/plain": [
       "('강한 위험 추구형', 96.74)"
      ]
     },
     "execution_count": 12,
     "metadata": {},
     "output_type": "execute_result"
    }
   ],
   "source": [
    "Q1A2 = '고위험 고수익 전략을 추구합니다. 원금 손실의 가능성이 있더라도 짧은 시간 내에 많은 돈을 벌 수 있으면 좋을 것 같습니다.'\n",
    "Risk_Tolerance(Q1A2,return_logits=True)"
   ]
  },
  {
   "cell_type": "code",
   "execution_count": 13,
   "id": "92a5303d",
   "metadata": {},
   "outputs": [
    {
     "data": {
      "text/plain": [
       "('약한 위험 추구형', 44.25999999999999)"
      ]
     },
     "execution_count": 13,
     "metadata": {},
     "output_type": "execute_result"
    }
   ],
   "source": [
    "Q1A3 = '주식 투자에 여러 변수가 존재함을 이해하고 있습니다.'\n",
    "Risk_Tolerance(Q1A3,return_logits=True)"
   ]
  },
  {
   "cell_type": "markdown",
   "id": "c133ddbb",
   "metadata": {},
   "source": [
    "### Q: 고객님이 알고 있는 금융 상품에 대하여 서술해주세요."
   ]
  },
  {
   "cell_type": "code",
   "execution_count": 2,
   "id": "d979cd0e",
   "metadata": {},
   "outputs": [
    {
     "name": "stderr",
     "output_type": "stream",
     "text": [
      "The tokenizer class you load from this checkpoint is not the same type as the class this function is called from. It may result in unexpected tokenization. \n",
      "The tokenizer class you load from this checkpoint is 'AlbertTokenizer'. \n",
      "The class this function is called from is 'KbAlbertCharTokenizer'.\n",
      "Some weights of the model checkpoint at ./kbalbert/model were not used when initializing AlbertForSequenceClassification: ['predictions.LayerNorm.bias', 'predictions.bias', 'predictions.decoder.weight', 'predictions.dense.bias', 'sop_classifier.classifier.bias', 'sop_classifier.classifier.weight', 'predictions.dense.weight', 'predictions.LayerNorm.weight', 'predictions.decoder.bias']\n",
      "- This IS expected if you are initializing AlbertForSequenceClassification from the checkpoint of a model trained on another task or with another architecture (e.g. initializing a BertForSequenceClassification model from a BertForPreTraining model).\n",
      "- This IS NOT expected if you are initializing AlbertForSequenceClassification from the checkpoint of a model that you expect to be exactly identical (initializing a BertForSequenceClassification model from a BertForSequenceClassification model).\n",
      "Some weights of AlbertForSequenceClassification were not initialized from the model checkpoint at ./kbalbert/model and are newly initialized: ['classifier.bias', 'classifier.weight']\n",
      "You should probably TRAIN this model on a down-stream task to be able to use it for predictions and inference.\n"
     ]
    }
   ],
   "source": [
    "%%capture\n",
    "tokenizer,model = load_model('./kbalbert/model')"
   ]
  },
  {
   "cell_type": "code",
   "execution_count": 3,
   "id": "7dfb7dfd",
   "metadata": {},
   "outputs": [
    {
     "data": {
      "text/plain": [
       "'해당 문장은 채권에 대한 이해를 보여주고 있다.'"
      ]
     },
     "execution_count": 3,
     "metadata": {},
     "output_type": "execute_result"
    }
   ],
   "source": [
    "Q3A1 = \"개인이 누군가로부터 돈을 빌리려면 얼마를 빌리고, 언제까지 어떻게 갚겠다는 약속을 해야 합니다. 이러한 약속을 증명하는 것을 차용증서라고 합니다. 정부나 회사도 외부에서 자금을 빌릴 때가 있습니다.\"\n",
    "Financial_Understanding(Q3A1,['주식','채권','파생상품'],tokenizer,model,weight_path='weight/model_2_0.pth')"
   ]
  },
  {
   "cell_type": "code",
   "execution_count": 5,
   "id": "ac3b19ee",
   "metadata": {},
   "outputs": [
    {
     "data": {
      "text/plain": [
       "'해당 문장은 파생상품에 대한 이해를 보여주고 있다.'"
      ]
     },
     "execution_count": 5,
     "metadata": {},
     "output_type": "execute_result"
    }
   ],
   "source": [
    "Q3A2 = '가치 변동에 따른 위험을 소액의 투자로 사전에 방지, 위험을 최소화하는 목적에서 개발되었다.'\n",
    "Financial_Understanding(Q3A2,['주식','채권','파생상품'],tokenizer,model,weight_path='weight/model_2_0.pth')"
   ]
  },
  {
   "cell_type": "code",
   "execution_count": 7,
   "id": "0c2b42ef",
   "metadata": {},
   "outputs": [
    {
     "data": {
      "text/plain": [
       "'해당 문장은 주식에 대한 이해를 보여주고 있다.'"
      ]
     },
     "execution_count": 7,
     "metadata": {},
     "output_type": "execute_result"
    }
   ],
   "source": [
    "Q3A3 = '분산출자를 바탕으로 성립한 회사의 자본을 이루는 단위 및 그것을 나타내는 유가증권. \\\n",
    "개인이나 단체가 특정 회사에 일정 금액을 투자해주고 그 대가로 정해진 기간마다 투자금에 걸맞은 이득, 예를 들면 투자금에 비례하는 이익을 배당받거나 회사 경영권을 행사할 수 있게 하는 제도다'\n",
    "Financial_Understanding(Q3A3,['주식','채권','파생상품'],tokenizer,model,weight_path='weight/model_2_0.pth')"
   ]
  },
  {
   "cell_type": "markdown",
   "id": "67469c78",
   "metadata": {},
   "source": [
    "### Q: 고객님은 다음 중 어떤 목적으로 투자하는 편인지를 기대하는 수익률을 포함하여 작성해주세요."
   ]
  },
  {
   "cell_type": "code",
   "execution_count": 14,
   "id": "0343159c",
   "metadata": {},
   "outputs": [
    {
     "data": {
      "text/plain": [
       "('약한 위험 회피형', -6.3700000000000045)"
      ]
     },
     "execution_count": 14,
     "metadata": {},
     "output_type": "execute_result"
    }
   ],
   "source": [
    "Q2A1 = '원금보존 가능성을 포기하기 어렵기 때문에 예적금 수익률 보다 1~2%정도만 더 나오면 됨'\n",
    "Risk_Tolerance(Q2A1,return_logits=True)"
   ]
  },
  {
   "cell_type": "code",
   "execution_count": 15,
   "id": "dba541d0",
   "metadata": {},
   "outputs": [
    {
     "data": {
      "text/plain": [
       "('약한 위험 추구형', 13.89)"
      ]
     },
     "execution_count": 15,
     "metadata": {},
     "output_type": "execute_result"
    }
   ],
   "source": [
    "Q2A2 = '원금 손실도 고려해야하지만 그보다 투자 수익을 내는 것이 우선순위임'\n",
    "Risk_Tolerance(Q2A2,return_logits=True)"
   ]
  },
  {
   "cell_type": "code",
   "execution_count": 16,
   "id": "5ff89202",
   "metadata": {},
   "outputs": [
    {
     "data": {
      "text/plain": [
       "('강한 위험 추구형', 94.56)"
      ]
     },
     "execution_count": 16,
     "metadata": {},
     "output_type": "execute_result"
    }
   ],
   "source": [
    "Q2A3 = '공격적인 투자를 해서 최대한 높은 투자 수익을 내고 싶음'\n",
    "Risk_Tolerance(Q2A3,return_logits=True)"
   ]
  }
 ],
 "metadata": {
  "kernelspec": {
   "display_name": "Python 3",
   "language": "python",
   "name": "python3"
  },
  "language_info": {
   "codemirror_mode": {
    "name": "ipython",
    "version": 3
   },
   "file_extension": ".py",
   "mimetype": "text/x-python",
   "name": "python",
   "nbconvert_exporter": "python",
   "pygments_lexer": "ipython3",
   "version": "3.7.11"
  }
 },
 "nbformat": 4,
 "nbformat_minor": 5
}
