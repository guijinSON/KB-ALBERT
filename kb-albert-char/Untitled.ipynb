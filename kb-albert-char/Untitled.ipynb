{
 "cells": [
  {
   "cell_type": "code",
   "execution_count": 19,
   "id": "345c9a74",
   "metadata": {},
   "outputs": [],
   "source": [
    "path = '/Users/songuijin/Documents/GitHub/KB-ALBERT-KO/kb-albert-char/model'"
   ]
  },
  {
   "cell_type": "code",
   "execution_count": 36,
   "id": "5f8a1921",
   "metadata": {},
   "outputs": [
    {
     "name": "stderr",
     "output_type": "stream",
     "text": [
      "The tokenizer class you load from this checkpoint is not the same type as the class this function is called from. It may result in unexpected tokenization. \n",
      "The tokenizer class you load from this checkpoint is 'AlbertTokenizerFast'. \n",
      "The class this function is called from is 'KbAlbertCharTokenizer'.\n",
      "Some weights of the model checkpoint at ./model/ were not used when initializing AlbertForQuestionAnswering: ['predictions.dense.weight', 'predictions.LayerNorm.weight', 'predictions.decoder.weight', 'sop_classifier.classifier.weight', 'predictions.decoder.bias', 'predictions.LayerNorm.bias', 'predictions.bias', 'predictions.dense.bias', 'sop_classifier.classifier.bias']\n",
      "- This IS expected if you are initializing AlbertForQuestionAnswering from the checkpoint of a model trained on another task or with another architecture (e.g. initializing a BertForSequenceClassification model from a BertForPreTraining model).\n",
      "- This IS NOT expected if you are initializing AlbertForQuestionAnswering from the checkpoint of a model that you expect to be exactly identical (initializing a BertForSequenceClassification model from a BertForSequenceClassification model).\n",
      "Some weights of AlbertForQuestionAnswering were not initialized from the model checkpoint at ./model/ and are newly initialized: ['qa_outputs.bias', 'qa_outputs.weight']\n",
      "You should probably TRAIN this model on a down-stream task to be able to use it for predictions and inference.\n"
     ]
    }
   ],
   "source": [
    "%%capture\n",
    "\n",
    "from transformers import AlbertForQuestionAnswering\n",
    "from tokenization_kbalbert import KbAlbertCharTokenizer\n",
    "\n",
    "# Load Tokenizer\n",
    "tokenizer = KbAlbertCharTokenizer.from_pretrained('./model/')\n",
    "\n",
    "# Load Model from pytorch checkpoint\n",
    "tf_model = AlbertForQuestionAnswering.from_pretrained('./model/')"
   ]
  },
  {
   "cell_type": "code",
   "execution_count": null,
   "id": "a959e0a0",
   "metadata": {},
   "outputs": [],
   "source": []
  }
 ],
 "metadata": {
  "kernelspec": {
   "display_name": "Python 3",
   "language": "python",
   "name": "python3"
  },
  "language_info": {
   "codemirror_mode": {
    "name": "ipython",
    "version": 3
   },
   "file_extension": ".py",
   "mimetype": "text/x-python",
   "name": "python",
   "nbconvert_exporter": "python",
   "pygments_lexer": "ipython3",
   "version": "3.7.11"
  }
 },
 "nbformat": 4,
 "nbformat_minor": 5
}
